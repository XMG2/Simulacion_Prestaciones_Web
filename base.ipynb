{
 "cells": [
  {
   "cell_type": "markdown",
   "metadata": {},
   "source": [
    "# Matrices de probabilidad\n",
    "\n",
    "## Extraidas del capitulo 8 del libro de Menascé\n"
   ]
  },
  {
   "cell_type": "code",
   "execution_count": 29,
   "metadata": {},
   "outputs": [
    {
     "name": "stdout",
     "output_type": "stream",
     "text": [
      "Matriz A\n",
      "     (e)   (h)   (s)   (v)   (g)   (c)   (b)   (x)\n",
      "(e)  0.00  1.00  0.00  0.00  0.00  0.00  0.00  0.00 \n",
      "(h)  0.00  0.00  0.70  0.00  0.10  0.00  0.00  0.20 \n",
      "(s)  0.00  0.00  0.40  0.20  0.15  0.00  0.00  0.25 \n",
      "(v)  0.00  0.00  0.00  0.00  0.65  0.00  0.00  0.35 \n",
      "(g)  0.00  0.00  0.00  0.00  0.00  0.30  0.60  0.10 \n",
      "(c)  0.00  0.00  0.00  0.00  0.00  0.00  0.00  1.00 \n",
      "(b)  0.00  0.00  0.00  0.00  0.00  0.00  0.00  1.00 \n",
      "(x)  0.00  0.00  0.00  0.00  0.00  0.00  0.00  0.00 \n",
      "\n",
      "Matriz B\n",
      "     (e)   (h)   (s)   (v)   (g)   (c)   (b)   (x)\n",
      "(e)  0.00  1.00  0.00  0.00  0.00  0.00  0.00  0.00 \n",
      "(h)  0.00  0.00  0.70  0.00  0.10  0.00  0.00  0.20 \n",
      "(s)  0.00  0.00  0.45  0.15  0.10  0.00  0.00  0.30 \n",
      "(v)  0.00  0.00  0.00  0.00  0.40  0.00  0.00  0.60 \n",
      "(g)  0.00  0.00  0.00  0.00  0.00  0.30  0.55  0.15 \n",
      "(c)  0.00  0.00  0.00  0.00  0.00  0.00  0.00  1.00 \n",
      "(b)  0.00  0.00  0.00  0.00  0.00  0.00  0.00  1.00 \n",
      "(x)  0.00  0.00  0.00  0.00  0.00  0.00  0.00  0.00 \n",
      "\n"
     ]
    }
   ],
   "source": [
    "matrix_type_A = [\n",
    "    [0.0, 1.0, 0.0, 0.0, 0.0, 0.0, 0.0, 0.0],\n",
    "    [0.0, 0.0, 0.7, 0.0, 0.1, 0.0, 0.0, 0.2],\n",
    "    [0.0, 0.0, 0.4, 0.2, 0.15, 0.0, 0.0, 0.25],\n",
    "    [0.0, 0.0, 0.0, 0.0, 0.65, 0.0, 0.0, 0.35],\n",
    "    [0.0, 0.0, 0.0, 0.0, 0.0, 0.3, 0.6, 0.1],\n",
    "    [0.0, 0.0, 0.0, 0.0, 0.0, 0.0, 0.0, 1.0],\n",
    "    [0.0, 0.0, 0.0, 0.0, 0.0, 0.0, 0.0, 1.0],\n",
    "    [0.0, 0.0, 0.0, 0.0, 0.0, 0.0, 0.0, 0.0],\n",
    "]\n",
    "matrix_type_B = [\n",
    "    [0.0, 1.0, 0.0, 0.0, 0.0, 0.0, 0.0, 0.0],\n",
    "    [0.0, 0.0, 0.7, 0.0, 0.1, 0.0, 0.0, 0.2],\n",
    "    [0.0, 0.0, 0.45, 0.15, 0.1, 0.0, 0.0, 0.3],\n",
    "    [0.0, 0.0, 0.0, 0.0, 0.4, 0.0, 0.0, 0.6],\n",
    "    [0.0, 0.0, 0.0, 0.0, 0.0, 0.3, 0.55, 0.15],\n",
    "    [0.0, 0.0, 0.0, 0.0, 0.0, 0.0, 0.0, 1.0],\n",
    "    [0.0, 0.0, 0.0, 0.0, 0.0, 0.0, 0.0, 1.0],\n",
    "    [0.0, 0.0, 0.0, 0.0, 0.0, 0.0, 0.0, 0.0],\n",
    "]\n",
    "# grafo\n",
    "graph = {\n",
    "    0: [1],\n",
    "    1: [2, 4, 7],\n",
    "    2: [2, 3, 4, 7],\n",
    "    3: [4, 7],\n",
    "    4: [5, 6, 7],\n",
    "    5: [7],\n",
    "    6: [7],\n",
    "    7: [],\n",
    "}\n",
    "\n",
    "\n",
    "def print_matrix(matrix):\n",
    "    # printear matriz de manera bonita y de forma igual\n",
    "    indexes = [\"e\", \"h\", \"s\", \"v\", \"g\", \"c\", \"b\", \"x\"]\n",
    "    print(\"     (e)   (h)   (s)   (v)   (g)   (c)   (b)   (x)\")\n",
    "    for i, row in enumerate(matrix):\n",
    "        print(f\"({indexes[i]})\", end=\" \")\n",
    "        for elem in row:\n",
    "            print(f\"{elem:5.2f}\", end=\" \")\n",
    "        print()\n",
    "    print()\n",
    "\n",
    "\n",
    "print(\"Matriz A\")\n",
    "print_matrix(matrix_type_A)\n",
    "print(\"Matriz B\")\n",
    "print_matrix(matrix_type_B)"
   ]
  },
  {
   "cell_type": "markdown",
   "metadata": {},
   "source": [
    "# TODO explicaciones\n"
   ]
  },
  {
   "cell_type": "code",
   "execution_count": 4,
   "metadata": {},
   "outputs": [
    {
     "name": "stdout",
     "output_type": "stream",
     "text": [
      "[5.0, 6.2325, 1.0074999999999998, 1.67375, 0.50125, 0.94625]\n"
     ]
    },
    {
     "data": {
      "text/plain": [
       "0.06476271477992968"
      ]
     },
     "execution_count": 4,
     "metadata": {},
     "output_type": "execute_result"
    }
   ],
   "source": [
    "import numpy as np\n",
    "import utils_ecuaciones as utils\n",
    "\n",
    "# TODO resolver el sistema de ecuaciones de forma automatica\n",
    "# TODO adaptar las v para quitar el estado x (el estado de salida/ultimo estado)\n",
    "\n",
    "v_a = [\n",
    "    1.0,\n",
    "    1.167,\n",
    "    0.233,\n",
    "    0.427,\n",
    "    0.128,\n",
    "    0.256,\n",
    "]  # porcentaje de visitas del usuario A a cada estado\n",
    "\n",
    "v_b = [\n",
    "    1.0,\n",
    "    1.273,\n",
    "    0.191,\n",
    "    0.304,\n",
    "    0.091,\n",
    "    0.167,\n",
    "]  # porcentaje de visitas del usuario B a cada estado\n",
    "\n",
    "f_a = 0.25\n",
    "\n",
    "f_b = 0.75\n",
    "\n",
    "D = np.array(\n",
    "    [\n",
    "        [0.008, 0.009, 0.011, 0.060, 0.012, 0.015],\n",
    "        [0.030, 0.010, 0.010, 0.010, 0.010, 0.010],\n",
    "        [0.000, 0.030, 0.035, 0.025, 0.045, 0.040],\n",
    "        [0.000, 0.008, 0.080, 0.009, 0.011, 0.012],\n",
    "        [0.000, 0.010, 0.009, 0.015, 0.070, 0.045],\n",
    "        [0.000, 0.035, 0.018, 0.050, 0.080, 0.090],\n",
    "    ]\n",
    ")\n",
    "\n",
    "tasa_op_global = 5\n",
    "\n",
    "N = [1, 1, 1, 1, 1, 1]\n",
    "\n",
    "tasas = utils.cal_tasas_llegada(tasa_op_global, v_a, v_b, f_a, f_b)\n",
    "\n",
    "print(tasas)\n",
    "utils.cal_utilizacion_recurso(tasas, D[0], 1)\n",
    "utils.cal_tiempo_res_op(D[:, 0], tasas, N)"
   ]
  }
 ],
 "metadata": {
  "kernelspec": {
   "display_name": "base",
   "language": "python",
   "name": "python3"
  },
  "language_info": {
   "codemirror_mode": {
    "name": "ipython",
    "version": 3
   },
   "file_extension": ".py",
   "mimetype": "text/x-python",
   "name": "python",
   "nbconvert_exporter": "python",
   "pygments_lexer": "ipython3",
   "version": "3.11.6"
  }
 },
 "nbformat": 4,
 "nbformat_minor": 2
}
